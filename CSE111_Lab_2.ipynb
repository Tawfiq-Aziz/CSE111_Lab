{
  "nbformat": 4,
  "nbformat_minor": 0,
  "metadata": {
    "colab": {
      "provenance": []
    },
    "kernelspec": {
      "name": "python3",
      "display_name": "Python 3"
    },
    "language_info": {
      "name": "python"
    }
  },
  "cells": [
    {
      "cell_type": "code",
      "execution_count": null,
      "metadata": {
        "colab": {
          "base_uri": "https://localhost:8080/"
        },
        "id": "ODJSKPXx1O9e",
        "outputId": "8c2303e6-e495-4f64-fa25-e6d26d47a95a"
      },
      "outputs": [
        {
          "output_type": "stream",
          "name": "stdout",
          "text": [
            "0.5\n"
          ]
        }
      ],
      "source": [
        "#Task 1\n",
        "def calc_frac(num,denom):\n",
        "  if denom == 0:\n",
        "    return 0 \n",
        "  else:\n",
        "    result = (num/denom)-(num//denom)\n",
        "    if result== 0:\n",
        "      return 0\n",
        "    else:\n",
        "      return result\n",
        "print(calc_frac(5,2))"
      ]
    },
    {
      "cell_type": "code",
      "source": [
        "#Task 2\n",
        "def calc_bmi(height,weight):"
      ],
      "metadata": {
        "id": "ybCVluYs1tTT"
      },
      "execution_count": null,
      "outputs": []
    },
    {
      "cell_type": "code",
      "source": [
        "def division(a,b):\n",
        "  if b ==0:\n",
        "    return 0 \n",
        "    res = a/b\n",
        "    res=res-int(res)\n",
        "    if res>0:\n",
        "      return f'{res:.1f}'\n",
        "    else:\n",
        "      return 0 \n",
        "print(division(5,3))"
      ],
      "metadata": {
        "colab": {
          "base_uri": "https://localhost:8080/"
        },
        "id": "2Us3VdE61tWT",
        "outputId": "c5b0a3d5-5d1b-47a8-b7bc-fdc9c45643e7"
      },
      "execution_count": null,
      "outputs": [
        {
          "output_type": "stream",
          "name": "stdout",
          "text": [
            "None\n"
          ]
        }
      ]
    },
    {
      "cell_type": "code",
      "source": [
        "#Task 2\n",
        "def calc_bmi(height,weight):\n",
        "  height = height/100\n",
        "  bmi = weight/(height**2)\n",
        "  if bmi<18.5:\n",
        "    return f\"score is {bmi:.1f}. you are underweight\"\n",
        "  if 18.5<bmi<24.9:\n",
        "    return f\"score is {bmi:.1f}. you are normal\"\n",
        "  if 25<bmi<30:\n",
        "    return f\"score is {bmi:.1f}. you are overweight\"\n",
        "  if bmi>=30:\n",
        "    return f\"score is {bmi:.1f}. you are obese\"\n",
        "calc_bmi(175,96)"
      ],
      "metadata": {
        "colab": {
          "base_uri": "https://localhost:8080/",
          "height": 35
        },
        "id": "YKiGosSY1tZb",
        "outputId": "e61f956d-aa14-485c-99aa-37c207ed3e87"
      },
      "execution_count": null,
      "outputs": [
        {
          "output_type": "execute_result",
          "data": {
            "text/plain": [
              "'score is 31.3. you are obese'"
            ],
            "application/vnd.google.colaboratory.intrinsic+json": {
              "type": "string"
            }
          },
          "metadata": {},
          "execution_count": 38
        }
      ]
    },
    {
      "cell_type": "code",
      "source": [
        "#Task 3\n",
        "def div_sum(min,max,div):\n",
        "  sum = 0\n",
        "  for i in range(min,max):\n",
        "    if i%3==0:\n",
        "      sum+=i\n",
        "    else:\n",
        "      pass\n",
        "  return sum\n",
        "div_sum(3,16,3)"
      ],
      "metadata": {
        "colab": {
          "base_uri": "https://localhost:8080/"
        },
        "id": "3O912nuB1tcj",
        "outputId": "e08b2694-19f7-4309-c937-0de5df654ffd"
      },
      "execution_count": null,
      "outputs": [
        {
          "output_type": "execute_result",
          "data": {
            "text/plain": [
              "45"
            ]
          },
          "metadata": {},
          "execution_count": 14
        }
      ]
    },
    {
      "cell_type": "code",
      "source": [
        "#Task 4 \n",
        "def order(name,place='Mohakhali'):\n",
        "  sub_total = 0\n",
        "  if name==\"BBQ Chicken Cheese Burger\":\n",
        "    sub_total="
      ],
      "metadata": {
        "id": "WSV1glC71tfD"
      },
      "execution_count": null,
      "outputs": []
    },
    {
      "cell_type": "code",
      "source": [
        "#Task 4\n",
        "def foodpanda(food, location=\"Mohakhali\"):\n",
        "    if location != \"Mohakhali\":\n",
        "        delivery_charge = 60\n",
        "    else:\n",
        "        delivery_charge = 40\n",
        "\n",
        "    if food == \"BBQ Chicken Chesse Burger\":\n",
        "        meal_cost = 250\n",
        "    elif food == \"Beef Burger\":\n",
        "        meal_cost = 170\n",
        "    elif food == \"Naga Drums\":\n",
        "        meal_cost = 200\n",
        "    else:\n",
        "        return \"The food is not on the Menu.\"\n",
        "\n",
        "    tax = meal_cost * (8 / 100)\n",
        "\n",
        "    Total_Price = meal_cost + delivery_charge + tax\n",
        "    return Total_Price\n",
        "\n",
        "\n",
        "print(foodpanda(\"Beef Burger\", \"Dhanmondi\"))\n",
        "print(foodpanda(\"Beef Burger\"))"
      ],
      "metadata": {
        "colab": {
          "base_uri": "https://localhost:8080/"
        },
        "id": "PR-R9op7AlqJ",
        "outputId": "fea892c2-0dc6-44d2-87ff-5fada2a750a6"
      },
      "execution_count": null,
      "outputs": [
        {
          "output_type": "stream",
          "name": "stdout",
          "text": [
            "243.6\n",
            "223.6\n"
          ]
        }
      ]
    },
    {
      "cell_type": "code",
      "source": [
        "#Task 5 \n",
        "def replace()"
      ],
      "metadata": {
        "id": "xDP4OX-S1th0"
      },
      "execution_count": null,
      "outputs": []
    },
    {
      "cell_type": "code",
      "source": [
        "#task 5\n",
        "def replace(email,new_domain,old_domain='kaaj.com'):\n",
        "\n",
        "    list_email = email.split('@')\n",
        "    #print (list_email)\n",
        "    if list_email[1] == old_domain:\n",
        "        output = list_email[0] + '@' + new_domain\n",
        "        print (output)\n",
        "    else:\n",
        "        print (email)\n",
        "        \n",
        "replace ('alice@kaaj.com','sheba.xyz','kaaj.com')\n",
        "replace ('bob@sheba.xyz','sheba.xyz')"
      ],
      "metadata": {
        "id": "shuseWcQ1tns",
        "colab": {
          "base_uri": "https://localhost:8080/"
        },
        "outputId": "a98f2946-97d7-49da-efb2-b39c0d8de2c7"
      },
      "execution_count": null,
      "outputs": [
        {
          "output_type": "stream",
          "name": "stdout",
          "text": [
            "alice@sheba.xyz\n",
            "bob@sheba.xyz\n"
          ]
        }
      ]
    },
    {
      "cell_type": "code",
      "source": [
        "#Task 6\n",
        "#Task6\n",
        "def vowel_founder (input_a):\n",
        "    \n",
        "    #input_a = 'Steve Jobs'\n",
        "    vowels = 'aeiouAEIOU'\n",
        "    output = ''\n",
        "    count = 0\n",
        "    for index in input_a:\n",
        "        #print (index)\n",
        "        if index in vowels:\n",
        "            output += index + ','\n",
        "            count += 1\n",
        "\n",
        "    #print (output)\n",
        "    #print (count)\n",
        "\n",
        "    if len(output) == 0 and count == 0:\n",
        "        print ('No vowels in the name')\n",
        "    else:\n",
        "        print ('Vowels:',output,'. Total number of vowels:',count)\n",
        "\n",
        "vowel_founder ('Steve Jobs')\n",
        "vowel_founder ('XYZ')"
      ],
      "metadata": {
        "id": "bpuPapNt1try",
        "colab": {
          "base_uri": "https://localhost:8080/"
        },
        "outputId": "9bd701c9-f72f-4522-8b17-1eb1ce4b7287"
      },
      "execution_count": null,
      "outputs": [
        {
          "output_type": "stream",
          "name": "stdout",
          "text": [
            "Vowels: e,e,o, . Total number of vowels: 3\n",
            "No vowels in the name\n"
          ]
        }
      ]
    },
    {
      "cell_type": "code",
      "source": [
        "#Task 7\n",
        "def palindrome_checker (string):\n",
        "\n",
        "    new_string = \"\"\n",
        "    palindrome = False\n",
        "    for index in string:\n",
        "        if index == ' ':\n",
        "            continue\n",
        "        else:\n",
        "            new_string += index\n",
        "    for index in range (len(new_string)):\n",
        "        if new_string[index] == new_string[-1]:\n",
        "            palindrome = True\n",
        "        else:\n",
        "            break\n",
        "    if palindrome == True:\n",
        "        print ('Palindrome')\n",
        "    else:\n",
        "        print ('Not a palindrome')\n",
        "\n",
        "palindrome_checker ('madam')\n",
        "palindrome_checker ('hello')\n",
        "palindrome_checker ('nurses run')"
      ],
      "metadata": {
        "id": "AEjWySkA1twb",
        "colab": {
          "base_uri": "https://localhost:8080/"
        },
        "outputId": "45c5b2bb-8f29-475f-8176-750d23adb4dd"
      },
      "execution_count": null,
      "outputs": [
        {
          "output_type": "stream",
          "name": "stdout",
          "text": [
            "Palindrome\n",
            "Not a palindrome\n",
            "Palindrome\n"
          ]
        }
      ]
    },
    {
      "cell_type": "code",
      "source": [
        "#Task 8 \n",
        "def cal (days):\n",
        "    \n",
        "    #days = 4320\n",
        "    years = days//365\n",
        "    #print (years)\n",
        "    remaining_days = days%365\n",
        "    #print (remaining_days)\n",
        "    months = remaining_days//30\n",
        "    #print (months)\n",
        "    remaining_days2 = remaining_days % 30\n",
        "    #print (remaining_days2)\n",
        "    print (years,'years,',months,'months and',remaining_days2,'days')\n",
        "    \n",
        "cal (4320)\n",
        "cal (4000)"
      ],
      "metadata": {
        "id": "Wn0b65eW1t1j",
        "outputId": "972c4fb5-4863-4b4c-9926-e8215140312d",
        "colab": {
          "base_uri": "https://localhost:8080/"
        }
      },
      "execution_count": null,
      "outputs": [
        {
          "output_type": "stream",
          "name": "stdout",
          "text": [
            "11 years, 10 months and 5 days\n",
            "10 years, 11 months and 20 days\n"
          ]
        }
      ]
    },
    {
      "cell_type": "code",
      "source": [
        "#task 9\n",
        "def capitalize(text):\n",
        "\n",
        "\n",
        "  temp = text[0].upper()\n",
        "  i = 1\n",
        "  while i<len(text):\n",
        "    if text[i] in '.?!' and i!=len(text)-1:\n",
        "      temp+=text[i]+' '+text[i+2].upper()\n",
        "      i+=3\n",
        "    elif text[i-1:i+2] == 'i':\n",
        "      temp+='I'\n",
        "      i+=1\n",
        "    else:\n",
        "      temp+=text[i]\n",
        "      i+=1\n",
        "  return temp \n",
        "\n",
        "\n",
        "print(capitalize('my favourite animal is a dog.a dog has sharp teeth so that it can eat flesh very easily.do you know my pet dog’s name?i love my pet very much.'))"
      ],
      "metadata": {
        "id": "Fs_1HNjH1t5D",
        "colab": {
          "base_uri": "https://localhost:8080/"
        },
        "outputId": "c84a7708-e42e-41a6-9485-240338581861"
      },
      "execution_count": null,
      "outputs": [
        {
          "output_type": "stream",
          "name": "stdout",
          "text": [
            "My favourite animal is a dog.  dog has sharp teeth so that it can eat flesh very easily. O you know my pet dog’s name?  i love my pet very much.\n"
          ]
        }
      ]
    },
    {
      "cell_type": "code",
      "source": [],
      "metadata": {
        "id": "wVJ_MQRbMpyt"
      },
      "execution_count": null,
      "outputs": []
    }
  ]
}