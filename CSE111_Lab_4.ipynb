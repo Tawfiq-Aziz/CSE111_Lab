{
  "nbformat": 4,
  "nbformat_minor": 0,
  "metadata": {
    "colab": {
      "provenance": []
    },
    "kernelspec": {
      "name": "python3",
      "display_name": "Python 3"
    },
    "language_info": {
      "name": "python"
    }
  },
  "cells": [
    {
      "cell_type": "code",
      "execution_count": null,
      "metadata": {
        "id": "Bi46oVqk4v78",
        "colab": {
          "base_uri": "https://localhost:8080/"
        },
        "outputId": "ff3b747c-da7c-46e2-8eb0-6dbc0d95e4b1"
      },
      "outputs": [
        {
          "output_type": "stream",
          "name": "stdout",
          "text": [
            "Hello!\n",
            "Sam, you purchased 3 items(s):\n",
            "chips\n",
            "chocolate\n",
            "orange juice\n",
            "-----------------------------\n",
            "Hello David!\n",
            "David, you purchased 1 items(s):\n",
            "orange juice\n"
          ]
        }
      ],
      "source": [
        "#Task1\n",
        "class Customer:\n",
        "    def __init__(self, name):\n",
        "        self.name = name\n",
        "\n",
        "    def greet(self, name=None):\n",
        "        if name != None:\n",
        "            print(f\"Hello {name}!\")\n",
        "        else:\n",
        "            print(\"Hello!\")\n",
        "\n",
        "    def purchase(self,*item):\n",
        "        print(f\"{self.name}, you purchased {len(item)} items(s):\")\n",
        "        for i in item:\n",
        "            print(i)\n",
        "customer_1 = Customer(\"Sam\")\n",
        "customer_1.greet()\n",
        "customer_1.purchase(\"chips\", \"chocolate\", \"orange juice\")\n",
        "print(\"-----------------------------\")\n",
        "customer_2 = Customer(\"David\")\n",
        "customer_2.greet(\"David\")\n",
        "customer_2.purchase(\"orange juice\")"
      ]
    },
    {
      "cell_type": "code",
      "source": [
        "#Task 2\n",
        "class Panda:\n",
        "    def __init__(self, name, gender, age):\n",
        "        self.name = name\n",
        "        self.gender = gender\n",
        "        self.age = age\n",
        "\n",
        "    def sleep(self, sleep_time = None):\n",
        "        if sleep_time is None:\n",
        "            return f\"{self.name}'s duration is unknown thus should have only bamboo leaves\"\n",
        "    \n",
        "        elif sleep_time >= 3 and sleep_time <= 5:\n",
        "            return f\"{self.name} sleeps {sleep_time} hours daily and should have Mixed Veggies\"\n",
        "\n",
        "        elif sleep_time >= 6 and sleep_time <= 8:\n",
        "            return f\"{self.name} sleeps {sleep_time} hours daily and should have Eggplant & Tofu\"\n",
        "\n",
        "        elif sleep_time >= 9 and sleep_time <= 11:\n",
        "            return f\"{self.name} sleeps {sleep_time} hours daily and should have Broccoli Chicken\"\n",
        "panda1 = Panda(\"Kunfu\", \"Male\", 5)\n",
        "panda2 = Panda(\"Pan Pan\", \"Female\",3)\n",
        "panda3 = Panda(\"Ming Ming\", \"Female\",8)\n",
        "\n",
        "print(\"{} is a {} Panda Bear who is {} years old\".format(panda1.name,panda1.gender,panda1.age))\n",
        "\n",
        "print(\"{} is a {} Panda Bear who is {} years old\".format(panda2.name,panda2.gender,panda2.age))\n",
        "\n",
        "print(\"{} is a {} Panda Bear who is {} years old\".format(panda3.name,panda3.gender,panda3.age))\n",
        "print(\"===========================\")\n",
        "print(panda2.sleep(10))\n",
        "print(panda1.sleep(4))\n",
        "print(panda3.sleep())"
      ],
      "metadata": {
        "id": "oAfeDtqd5uMr",
        "colab": {
          "base_uri": "https://localhost:8080/"
        },
        "outputId": "aa08df7e-6ee5-4a3a-8ce8-3d5f757cf429"
      },
      "execution_count": null,
      "outputs": [
        {
          "output_type": "stream",
          "name": "stdout",
          "text": [
            "Kunfu is a Male Panda Bear who is 5 years old\n",
            "Pan Pan is a Female Panda Bear who is 3 years old\n",
            "Ming Ming is a Female Panda Bear who is 8 years old\n",
            "===========================\n",
            "Pan Pan sleeps 10 hours daily and should have Broccoli Chicken\n",
            "Kunfu sleeps 4 hours daily and should have Mixed Veggies\n",
            "Ming Ming's duration is unknown thus should have only bamboo leaves\n"
          ]
        }
      ]
    },
    {
      "cell_type": "code",
      "source": [
        "#Task 3\n",
        "class Cat:\n",
        "  def __init__(self,colour='White',activity='sitting'):\n",
        "    self.colour = colour\n",
        "    self.activity = activity\n",
        "  def printCat(self):\n",
        "    print(f\"{self.colour} cat is {self.activity}\")\n",
        "  def changeColor(self,new_color):\n",
        "    self.color= new_color\n",
        "\n",
        "c1 = Cat()\n",
        "c2 = Cat(\"Black\")\n",
        "c3 = Cat(\"Brown\", \"jumping\")\n",
        "c4 = Cat(\"Red\", \"purring\")\n",
        "c1.printCat()\n",
        "c2.printCat()\n",
        "c3.printCat()\n",
        "c4.printCat()\n",
        "c1.changeColor(\"Blue\")\n",
        "c3.changeColor(\"Purple\")\n",
        "c1.printCat()\n",
        "c3.printCat()\n"
      ],
      "metadata": {
        "colab": {
          "base_uri": "https://localhost:8080/"
        },
        "id": "XxI52EHM6SwE",
        "outputId": "56ea627f-5da5-4e37-f7a9-92013e34df81"
      },
      "execution_count": null,
      "outputs": [
        {
          "output_type": "stream",
          "name": "stdout",
          "text": [
            "White cat is sitting\n",
            "Black cat is sitting\n",
            "Brown cat is jumping\n",
            "Red cat is purring\n",
            "White cat is sitting\n",
            "Brown cat is jumping\n"
          ]
        }
      ]
    },
    {
      "cell_type": "code",
      "source": [
        "#Task 4\n",
        "class Student:\n",
        "  def __init__(self,name='default student',score=None):\n",
        "    self.name = name\n",
        "    self.score = score\n",
        "    print(f'hello {self.name}')\n",
        "  def quizcalc(self,*score):\n",
        "    average = sum(score)/3\n",
        "    print(f\"Your average quiz score is {average}\")\n",
        "  def printdetail(self):\n",
        "     pass\n",
        "s1 = Student()\n",
        "s1.quizcalc(10)\n",
        "print('--------------------------------')\n",
        "s1.printdetail()\n",
        "s2 = Student('Harry')\n",
        "s2.quizcalc(10,8)\n",
        "print('--------------------------------')\n",
        "s2.printdetail()\n",
        "s3 = Student('Hermione')\n",
        "s3.quizcalc(10,9,10)\n",
        "print('--------------------------------')\n",
        "s3.printdetail() \n"
      ],
      "metadata": {
        "colab": {
          "base_uri": "https://localhost:8080/"
        },
        "id": "hcZh5XQB8plE",
        "outputId": "9948a1f0-e6cf-4931-e6a3-2f708f0504d3"
      },
      "execution_count": null,
      "outputs": [
        {
          "output_type": "stream",
          "name": "stdout",
          "text": [
            "hello default student\n",
            "Your average quiz score is 3.3333333333333335\n",
            "--------------------------------\n",
            "hello Harry\n",
            "Your average quiz score is 6.0\n",
            "--------------------------------\n",
            "hello Hermione\n",
            "Your average quiz score is 9.666666666666666\n",
            "--------------------------------\n"
          ]
        }
      ]
    },
    {
      "cell_type": "code",
      "source": [
        "#Task 5\n",
        "class Student:\n",
        "  def __init__(self,name,id,dept=\"CSE\"):\n",
        "    self.name = name\n",
        "    self.id = id\n",
        "    self.dept = dept\n",
        "  def dailyEffort(self,effort):\n",
        "    self.effort = effort\n",
        "  def printDetails(self):\n",
        "    print(f'Name:{self.name}')\n",
        "    print(f\"ID:{self.id}\")\n",
        "    print(f'Department:{self.dept}')\n",
        "    print(f\"Daily effort:{self.effort} hour(s)\")\n",
        "    if self.effort<=2:\n",
        "      print(f'Suggestion: Should give more effort!')\n",
        "    elif self.effort<=4:\n",
        "      print(f'Suggestion: Keep up the good work!')\n",
        "    else:\n",
        "      print(f'Suggestion: Excellent! Now motivate others.')\n",
        "harry = Student('Harry Potter', 123)\n",
        "harry.dailyEffort(3)\n",
        "harry.printDetails()\t\n",
        "print('========================')\n",
        "john = Student(\"John Wick\", 456, \"BBA\")\n",
        "john.dailyEffort(2)\n",
        "john.printDetails()\n",
        "print('========================')\n",
        "naruto = Student(\"Naruto Uzumaki\", 777, \"Ninja\")\n",
        "naruto.dailyEffort(6)\n",
        "naruto.printDetails()\n",
        "     "
      ],
      "metadata": {
        "colab": {
          "base_uri": "https://localhost:8080/"
        },
        "id": "oMFnzFZp6zhm",
        "outputId": "1322cd1d-24e7-4071-b868-57b88d14f3c7"
      },
      "execution_count": null,
      "outputs": [
        {
          "output_type": "stream",
          "name": "stdout",
          "text": [
            "Name:Harry Potter\n",
            "ID:123\n",
            "Department:CSE\n",
            "Daily effort:3 hour(s)\n",
            "Suggestion: Keep up the good work!\n",
            "========================\n",
            "Name:John Wick\n",
            "ID:456\n",
            "Department:BBA\n",
            "Daily effort:2 hour(s)\n",
            "Suggestion: Should give more effort!\n",
            "========================\n",
            "Name:Naruto Uzumaki\n",
            "ID:777\n",
            "Department:Ninja\n",
            "Daily effort:6 hour(s)\n",
            "Suggestion: Excellent! Now motivate others.\n"
          ]
        }
      ]
    },
    {
      "cell_type": "code",
      "source": [
        "#task 6\n",
        "class Patient:\n",
        "    def __init__ (self, name, age):\n",
        "        self.name = name\n",
        "        self.age = age\n",
        "\n",
        "    def add_Symptom (self, *symptoms):\n",
        "        self.symptoms = symptoms\n",
        "\n",
        "    def printPatientDetail(self):\n",
        "        print (\"Name:\",self.name)\n",
        "        print (\"Age:\",self.age)\n",
        "        print (\"Symptoms:\",end = \"\")\n",
        "        print (*self.symptoms, sep = \", \")\n",
        "        \n",
        "p1 = Patient('Thomas', 23)\n",
        "p1.add_Symptom('Headache')\n",
        "p2 = Patient('Carol', 20)\n",
        "p2.add_Symptom('Vomiting', 'Coughing')\n",
        "p3 = Patient('Mike', 25)\n",
        "p3.add_Symptom('Fever','Headache','Coughing')\n",
        "print(\"=========================\")\n",
        "p1.printPatientDetail()\n",
        "print(\"=========================\")\n",
        "p2.printPatientDetail()\n",
        "print(\"=========================\")\n",
        "p3.printPatientDetail()\n"
      ],
      "metadata": {
        "id": "0Wz0UU9j6zsk",
        "colab": {
          "base_uri": "https://localhost:8080/"
        },
        "outputId": "8e82fbe5-0d2c-46ba-d922-76ca57ad1df7"
      },
      "execution_count": null,
      "outputs": [
        {
          "output_type": "stream",
          "name": "stdout",
          "text": [
            "=========================\n",
            "Name: Thomas\n",
            "Age: 23\n",
            "Symptoms:Headache\n",
            "=========================\n",
            "Name: Carol\n",
            "Age: 20\n",
            "Symptoms:Vomiting, Coughing\n",
            "=========================\n",
            "Name: Mike\n",
            "Age: 25\n",
            "Symptoms:Fever, Headache, Coughing\n"
          ]
        }
      ]
    },
    {
      "cell_type": "code",
      "source": [
        "#task 7 \n",
        "class Match:\n",
        "    def __init__(self, teams):\n",
        "        self.teams = teams.split(\"-\")\n",
        "        self.batting_team = self.teams[0]\n",
        "        self.bowling_team = self.teams[1]\n",
        "        self.runs = 0\n",
        "        self.wickets = 0\n",
        "        self.over = 0\n",
        "        print(\"5..4..3..2..1.. Play !!!\")\n",
        "    def add_run(self, run):\n",
        "        self.runs += run\n",
        "        \n",
        "    def add_over(self,over):\n",
        "        if self.over+over>=5:\n",
        "            print(\"Warning! Cannot add 5 over/s (5 over match)\")\n",
        "        else:\n",
        "            self.over=+over\n",
        "        \n",
        "    def add_wicket(self, wicket):\n",
        "        self.wickets += wicket\n",
        "        \n",
        "    def print_scoreboard(self):\n",
        "          return f\"batting team: {self.batting_team}\\nbowling team:{self.bowling_team}\\ntotal run:{self.runs} wickets:{self.wickets} overs:{self.over}\"\n",
        "\n",
        "\n",
        "match1 = Match(\"Rangpur Riders-Cumilla Victorians\")\n",
        "print(\"=========================\")\n",
        "match1.add_run(4)\n",
        "match1.add_run(6)\n",
        "match1.add_over(1)\n",
        "print(match1.print_scoreboard())\n",
        "print(\"=========================\")\n",
        "match1.add_over(5)\n",
        "print(\"=========================\")\n",
        "match1.add_wicket(1)\n",
        "print(match1.print_scoreboard())"
      ],
      "metadata": {
        "colab": {
          "base_uri": "https://localhost:8080/"
        },
        "id": "bZAO9gpDuwgf",
        "outputId": "1c37fd1d-0830-4fd9-91ad-616ecc63e75c"
      },
      "execution_count": null,
      "outputs": [
        {
          "output_type": "stream",
          "name": "stdout",
          "text": [
            "5..4..3..2..1.. Play !!!\n",
            "=========================\n",
            "batting team: Rangpur Riders\n",
            "bowling team:Cumilla Victorians\n",
            "total run:10 wickets:0 overs:1\n",
            "=========================\n",
            "Warning! Cannot add 5 over/s (5 over match)\n",
            "=========================\n",
            "batting team: Rangpur Riders\n",
            "bowling team:Cumilla Victorians\n",
            "total run:10 wickets:1 overs:1\n"
          ]
        }
      ]
    },
    {
      "cell_type": "code",
      "source": [
        "#Task 8\n",
        "class ParcelKoro:\n",
        "  \n",
        "    def __init__(self, name = \"No name set\", product_weight = 0):\n",
        "        self.name = name\n",
        "        self.product_weight = product_weight\n",
        "    \n",
        "    def calculateFee(self,location = None):\n",
        "        self.location = location\n",
        "        if self.location == None:\n",
        "            self.location_charge = 50\n",
        "        else:\n",
        "            self.location_charge = 100\n",
        "    \n",
        "    def printDetails(self):\n",
        "        print (\"Customer Name:\",self.name)\n",
        "        print (\"Product Weight:\",self.product_weight)\n",
        "        if self.product_weight == 0:\n",
        "            total_fee = 0\n",
        "        else:\n",
        "            total_fee = (self.product_weight * 20) + self.location_charge\n",
        "        print (\"Total fee:\",total_fee)\n",
        "\n",
        "print(\"**********************\")\n",
        "p1 = ParcelKoro()\n",
        "p1.calculateFee()\n",
        "p1.printDetails()\n",
        "print(\"**********************\")\n",
        "p2 = ParcelKoro('Bob The Builder')\n",
        "p2.calculateFee()\n",
        "p2.printDetails()\n",
        "print(\"----------------------------\")\n",
        "p2.product_weight = 15\n",
        "p2.calculateFee()\n",
        "p2.printDetails()\n",
        "print(\"**********************\")\n",
        "p3 = ParcelKoro('Dora The Explorer', 10)\n",
        "p3.calculateFee('Dhanmondi')\n",
        "p3.printDetails()\n"
      ],
      "metadata": {
        "id": "rk8UYYTkLlhr",
        "colab": {
          "base_uri": "https://localhost:8080/"
        },
        "outputId": "52ec88a2-d00b-49af-a5a1-07b8fc2040ea"
      },
      "execution_count": null,
      "outputs": [
        {
          "output_type": "stream",
          "name": "stdout",
          "text": [
            "**********************\n",
            "Customer Name: No name set\n",
            "Product Weight: 0\n",
            "Total fee: 0\n",
            "**********************\n",
            "Customer Name: Bob The Builder\n",
            "Product Weight: 0\n",
            "Total fee: 0\n",
            "----------------------------\n",
            "Customer Name: Bob The Builder\n",
            "Product Weight: 15\n",
            "Total fee: 350\n",
            "**********************\n",
            "Customer Name: Dora The Explorer\n",
            "Product Weight: 10\n",
            "Total fee: 300\n"
          ]
        }
      ]
    },
    {
      "cell_type": "code",
      "source": [
        "#Task9\n",
        "class Batsman:\n",
        "    \n",
        "    def __init__(self,*info):\n",
        "        if len(info) == 3:\n",
        "            self.name = info[0]\n",
        "            self.runs_scored = info[1]\n",
        "            self.balls_faced = info[2]\n",
        "        else:\n",
        "            self.name = \"New Batsman\"\n",
        "            self.runs_scored = info[0]\n",
        "            self.balls_faced = info[1]\n",
        "            \n",
        "    def printCareerStatistics(self):\n",
        "        print (\"Name:\",self.name)\n",
        "        print (\"Runs Scored:\",self.runs_scored,\", Balls Faced:\",self.balls_faced)\n",
        "        \n",
        "            \n",
        "    def battingStrikeRate(self):\n",
        "        x = (self.runs_scored / self.balls_faced) * 100\n",
        "        return x\n",
        "    \n",
        "    def setName(self,setname):\n",
        "        self.name = setname\n",
        "        \n",
        "b1 = Batsman(6101, 7380)\n",
        "b1.printCareerStatistics() \n",
        "print(\"============================\")\n",
        "b2 = Batsman(\"Liton Das\", 678, 773) \n",
        "b2.printCareerStatistics()\n",
        "print(\"----------------------------\") \n",
        "print(b2.battingStrikeRate()) \n",
        "print(\"============================\") \n",
        "b1.setName(\"Shakib Al Hasan\")\n",
        "b1.printCareerStatistics() \n",
        "print(\"----------------------------\") \n",
        "print(b1.battingStrikeRate())"
      ],
      "metadata": {
        "colab": {
          "base_uri": "https://localhost:8080/"
        },
        "id": "_X24D_k18pui",
        "outputId": "19517c79-6a88-438e-8289-060156686e4a"
      },
      "execution_count": null,
      "outputs": [
        {
          "output_type": "stream",
          "name": "stdout",
          "text": [
            "Name: New Batsman\n",
            "Runs Scored: 6101 , Balls Faced: 7380\n",
            "============================\n",
            "Name: Liton Das\n",
            "Runs Scored: 678 , Balls Faced: 773\n",
            "----------------------------\n",
            "87.71021992238033\n",
            "============================\n",
            "Name: Shakib Al Hasan\n",
            "Runs Scored: 6101 , Balls Faced: 7380\n",
            "----------------------------\n",
            "82.66937669376694\n"
          ]
        }
      ]
    },
    {
      "cell_type": "code",
      "source": [
        "#9\n",
        "class Batsman:\n",
        "    def __init__(self, *var):\n",
        "        if len(var) == 2:\n",
        "            runs, balls = var\n",
        "        else:\n",
        "            player, runs, balls = var\n",
        "        if len(var) != 2:\n",
        "            self.name = player\n",
        "        else:\n",
        "            self.name = \"New Batsman\"\n",
        "        self.runs = runs\n",
        "        self.balls = balls\n",
        "\n",
        "    def setName(self, name):\n",
        "        self.name = name\n",
        "\n",
        "    def battingStrikeRate(self):\n",
        "        return (self.runs) / (self.balls) * 100\n",
        "\n",
        "    def printCareerStatistics(self):\n",
        "        print(f\"Name: {self.name}\")\n",
        "        print(f\"Runs Scored: {self.runs}, Balls Faced: {self.balls}\")\n",
        "\n",
        "b1 = Batsman(6101, 7380)\n",
        "b1.printCareerStatistics()\n",
        "print(\"============================\")\n",
        "b2 = Batsman(\"Liton Das\", 678, 773)\n",
        "b2.printCareerStatistics()\n",
        "print(\"----------------------------\")\n",
        "print(b2.battingStrikeRate())\n",
        "print(\"============================\")\n",
        "b1.setName(\"Shakib Al Hasan\")\n",
        "b1.printCareerStatistics()\n",
        "print(\"----------------------------\")\n",
        "print(b1.battingStrikeRate())\n"
      ],
      "metadata": {
        "colab": {
          "base_uri": "https://localhost:8080/"
        },
        "id": "8Sir23CQyghb",
        "outputId": "5e59d0c5-a5b2-491d-cc58-302735c62eff"
      },
      "execution_count": null,
      "outputs": [
        {
          "output_type": "stream",
          "name": "stdout",
          "text": [
            "Name: New Batsman\n",
            "Runs Scored: 6101, Balls Faced: 7380\n",
            "============================\n",
            "Name: Liton Das\n",
            "Runs Scored: 678, Balls Faced: 773\n",
            "----------------------------\n",
            "87.71021992238033\n",
            "============================\n",
            "Name: Shakib Al Hasan\n",
            "Runs Scored: 6101, Balls Faced: 7380\n",
            "----------------------------\n",
            "82.66937669376694\n"
          ]
        }
      ]
    },
    {
      "cell_type": "code",
      "source": [
        "#10\n",
        "class EPL_Team:\n",
        "    def __init__(self, name, song=\"No Slogan\"):\n",
        "        self.name = name\n",
        "        self.song = song\n",
        "        self.title = 0\n",
        "\n",
        "    def increaseTitle(self):\n",
        "        self.title += 1\n",
        "\n",
        "    def changeSong(self, song):\n",
        "        self.song = song\n",
        "\n",
        "    def showClubInfo(self):\n",
        "        return f\"Name: {self.name}\\nSong: {self.song}\\nTotal No of title: {self.title}\"\n",
        "manu = EPL_Team('Manchester United', 'Glory Glory Man United')\n",
        "chelsea = EPL_Team('Chelsea')\n",
        "print('===================')\n",
        "print(manu.showClubInfo())\n",
        "print('##################')\n",
        "manu.increaseTitle()\n",
        "print(manu.showClubInfo())\n",
        "print('===================')\n",
        "print(chelsea.showClubInfo())\n",
        "chelsea.changeSong('Keep the blue flag flying high')\n",
        "print(chelsea.showClubInfo())\n"
      ],
      "metadata": {
        "colab": {
          "base_uri": "https://localhost:8080/"
        },
        "id": "b_yUSqI60JB8",
        "outputId": "5158234a-30dc-46ba-9eb5-cb29a2dd3fdb"
      },
      "execution_count": null,
      "outputs": [
        {
          "output_type": "stream",
          "name": "stdout",
          "text": [
            "===================\n",
            "Name: Manchester United\n",
            "Song: Glory Glory Man United\n",
            "Total No of title: 0\n",
            "##################\n",
            "Name: Manchester United\n",
            "Song: Glory Glory Man United\n",
            "Total No of title: 1\n",
            "===================\n",
            "Name: Chelsea\n",
            "Song: No Slogan\n",
            "Total No of title: 0\n",
            "Name: Chelsea\n",
            "Song: Keep the blue flag flying high\n",
            "Total No of title: 0\n"
          ]
        }
      ]
    },
    {
      "cell_type": "code",
      "source": [
        "#Task 11\n",
        "class Author:\n",
        "    def __init__(self, name=None, *books):\n",
        "        self.name = name\n",
        "        if name == None:\n",
        "            self.name = \"Default\"\n",
        "        booklist = \"\"\n",
        "        if len(books) > 0:\n",
        "            for i in books:\n",
        "                booklist += i + \"\\n\"\n",
        "            self.books = booklist\n",
        "    def changeName(self, new_name):\n",
        "        self.name = new_name\n",
        "    def addBooks(self, *books):\n",
        "        booklist = \"\"\n",
        "        for i in books:\n",
        "            booklist += i + \"\\n\"\n",
        "        self.books = booklist\n",
        "    def printDetails(self):\n",
        "        print(f\"Author Name: {self.name}\")\n",
        "        print(\"------------\")\n",
        "        print(f\"List of Books:\")\n",
        "        print(self.books)\n",
        "\n",
        "auth1 = Author('Humayun Ahmed')\n",
        "auth1.addBooks('Deyal', 'Megher Opor Bari')\n",
        "auth1.printDetails()\n",
        "print('===================')\n",
        "auth2 = Author()\n",
        "print(auth2.name)\n",
        "auth2.changeName('Mario Puzo')\n",
        "auth2.addBooks('The Godfather', 'Omerta', 'The Sicilian')\n",
        "print('===================')\n",
        "auth2.printDetails()\n",
        "print('===================')\n",
        "auth3 = Author('Paolo Coelho', 'The Alchemist', 'The Fifth Mountain')\n",
        "auth3.printDetails()"
      ],
      "metadata": {
        "colab": {
          "base_uri": "https://localhost:8080/"
        },
        "id": "9SJtMOWGG9aP",
        "outputId": "78f56c4c-fad0-4453-c561-a064929dda53"
      },
      "execution_count": null,
      "outputs": [
        {
          "output_type": "stream",
          "name": "stdout",
          "text": [
            "Author Name: Humayun Ahmed\n",
            "------------\n",
            "List of Books:\n",
            "Deyal\n",
            "Megher Opor Bari\n",
            "\n",
            "===================\n",
            "Default\n",
            "===================\n",
            "Author Name: Mario Puzo\n",
            "------------\n",
            "List of Books:\n",
            "The Godfather\n",
            "Omerta\n",
            "The Sicilian\n",
            "\n",
            "===================\n",
            "Author Name: Paolo Coelho\n",
            "------------\n",
            "List of Books:\n",
            "The Alchemist\n",
            "The Fifth Mountain\n",
            "\n"
          ]
        }
      ]
    },
    {
      "cell_type": "code",
      "source": [
        "#Task 12\n",
        "class TaxiLagbe:\n",
        "    def __init__(self, num, place):\n",
        "        self.taxi = num\n",
        "        self.place = place\n",
        "        self.num=0\n",
        "        self.passengers = []\n",
        "        self.fare = 0\n",
        "        \n",
        "    def addPassenger(self,*passengers):\n",
        "        if self.num+len(passengers) > 4:\n",
        "            print('Taxi Full! No more passengers can be added.')\n",
        "        else:\n",
        "          self.num+=len(passengers)\n",
        "          for i in passengers:\n",
        "            namemoney=i.split('_')\n",
        "            self.passengers+=[namemoney[0]]\n",
        "            self.fare+=int(namemoney[1])\n",
        "            print(f'dear {namemoney[0]} !  Welcome to TaxiLagbe.')\n",
        "    def printDetails(self):\n",
        "      self.allP=''\n",
        "      for i in self.passengers:\n",
        "        self.allP+=i+\", \" \n",
        "      print(f'Trip info for our taxi number:{self.num}')  \n",
        "      \n",
        "\n",
        "\n",
        "taxi1 = TaxiLagbe('1010-01', 'Dhaka')\n",
        "print('-------------------------------')\n",
        "taxi1.addPassenger('Walker_100', 'Wood_200')\n",
        "taxi1.addPassenger('Matt_100')\n",
        "taxi1.addPassenger('Wilson_105')\n",
        "print('-------------------------------')\n",
        "taxi1.printDetails()\n",
        "print('-------------------------------')\n",
        "taxi1.addPassenger('Karen_200')\n",
        "print('-------------------------------')\n",
        "taxi1.printDetails()\n",
        "print('-------------------------------')\n",
        "taxi2 = TaxiLagbe('1010-02', 'Khulna')\n",
        "taxi2.addPassenger('Ronald_115')\n",
        "taxi2.addPassenger('Parker_215')\n",
        "print('-------------------------------')\n",
        "taxi2.printDetails()\n"
      ],
      "metadata": {
        "id": "rmmMNRcUMgAx",
        "colab": {
          "base_uri": "https://localhost:8080/"
        },
        "outputId": "ab6a8e18-d2f6-47f2-c6bc-3acff0196e68"
      },
      "execution_count": null,
      "outputs": [
        {
          "output_type": "stream",
          "name": "stdout",
          "text": [
            "-------------------------------\n",
            "dear Walker !  Welcome to TaxiLagbe.\n",
            "dear Wood !  Welcome to TaxiLagbe.\n",
            "dear Matt !  Welcome to TaxiLagbe.\n",
            "dear Wilson !  Welcome to TaxiLagbe.\n",
            "-------------------------------\n",
            "Trip info for our taxi number:4\n",
            "-------------------------------\n",
            "Taxi Full! No more passengers can be added.\n",
            "-------------------------------\n",
            "Trip info for our taxi number:4\n",
            "-------------------------------\n",
            "dear Ronald !  Welcome to TaxiLagbe.\n",
            "dear Parker !  Welcome to TaxiLagbe.\n",
            "-------------------------------\n",
            "Trip info for our taxi number:2\n"
          ]
        }
      ]
    },
    {
      "cell_type": "code",
      "source": [
        "#Task12\n",
        "class TaxiLagbe:\n",
        "    def __init__(self, taxi_number, area):\n",
        "        self.taxi_number = taxi_number\n",
        "        self.area = area\n",
        "        self.passengers = []\n",
        "        self.fare = 0\n",
        "        \n",
        "    def addPassenger(self, *passengers):\n",
        "        for passenger in passengers:\n",
        "            if len(self.passengers) < 4:\n",
        "                last_name, ticket_fare = passenger.split('_')\n",
        "                self.passengers.append(last_name)\n",
        "                self.fare += int(ticket_fare)\n",
        "                print(\"Dear {}! Welcome to TaxiLagbe.\".format(last_name))\n",
        "            else:\n",
        "                print(\"Taxi Full! No more passengers can be added.\")\n",
        "                \n",
        "    def printDetails(self):\n",
        "        print(\"Trip info for Taxi number: {}\".format(self.taxi_number))\n",
        "        print(\"This taxi can cover only {} area. \".format(self.area))\n",
        "        print(\"Total passengers: {}\".format(len(self.passengers)))\n",
        "        print(\"Passenger lists:\")\n",
        "        print((self.passengers))\n",
        "        print(\"Total collected fare: {} Taka\".format(self.fare))\n",
        "taxi1 = TaxiLagbe('1010-01', 'Dhaka')\n",
        "print('-------------------------------')\n",
        "taxi1.addPassenger('Walker_100', 'Wood_200')\n",
        "taxi1.addPassenger('Matt_100')\n",
        "taxi1.addPassenger('Wilson_105')\n",
        "print('-------------------------------')\n",
        "taxi1.printDetails()\n",
        "print('-------------------------------')\n",
        "taxi1.addPassenger('Karen_200')\n",
        "print('-------------------------------')\n",
        "taxi1.printDetails()\n",
        "print('-------------------------------')\n",
        "taxi2 = TaxiLagbe('1010-02', 'Khulna')\n",
        "taxi2.addPassenger('Ronald_115')\n",
        "taxi2.addPassenger('Parker_215')\n",
        "print('-------------------------------')\n",
        "taxi2.printDetails()\n"
      ],
      "metadata": {
        "id": "n26edqNJMgJQ",
        "colab": {
          "base_uri": "https://localhost:8080/"
        },
        "outputId": "27038296-2834-4cd0-9c92-9bafb7d40db1"
      },
      "execution_count": null,
      "outputs": [
        {
          "output_type": "stream",
          "name": "stdout",
          "text": [
            "-------------------------------\n",
            "Dear Walker! Welcome to TaxiLagbe.\n",
            "Dear Wood! Welcome to TaxiLagbe.\n",
            "Dear Matt! Welcome to TaxiLagbe.\n",
            "Dear Wilson! Welcome to TaxiLagbe.\n",
            "-------------------------------\n",
            "Trip info for Taxi number: 1010-01\n",
            "This taxi can cover only Dhaka area. \n",
            "Total passengers: 4\n",
            "Passenger lists:\n",
            "['Walker', 'Wood', 'Matt', 'Wilson']\n",
            "Total collected fare: 505 Taka\n",
            "-------------------------------\n",
            "Taxi Full! No more passengers can be added.\n",
            "-------------------------------\n",
            "Trip info for Taxi number: 1010-01\n",
            "This taxi can cover only Dhaka area. \n",
            "Total passengers: 4\n",
            "Passenger lists:\n",
            "['Walker', 'Wood', 'Matt', 'Wilson']\n",
            "Total collected fare: 505 Taka\n",
            "-------------------------------\n",
            "Dear Ronald! Welcome to TaxiLagbe.\n",
            "Dear Parker! Welcome to TaxiLagbe.\n",
            "-------------------------------\n",
            "Trip info for Taxi number: 1010-02\n",
            "This taxi can cover only Khulna area. \n",
            "Total passengers: 2\n",
            "Passenger lists:\n",
            "['Ronald', 'Parker']\n",
            "Total collected fare: 330 Taka\n"
          ]
        }
      ]
    },
    {
      "cell_type": "code",
      "source": [
        "#13\n",
        "class Account:\n",
        "    def __init__(self, name=None, balance=None):\n",
        "        self.name = name\n",
        "        self.balance = balance\n",
        "\n",
        "        if self.name == None:\n",
        "            self.name = \"Default Account\"\n",
        "\n",
        "        if self.balance == None:\n",
        "            self.balance = 0.0\n",
        "\n",
        "    def withdraw(self, amount):\n",
        "        var = self.balance - amount\n",
        "        if var <= 3070.0:\n",
        "            print(\n",
        "                \"Sorry, Withdraw unsuccessful! The account balance after deducting withdraw amount is equal to or less than minimum.\"\n",
        "            )\n",
        "        else:\n",
        "            print(f\"Withdraw successful! New balance is: {var}\")\n",
        "\n",
        "    def details(self):\n",
        "        return f\"{self.name}\\n{self.balance:.1f}\"\n",
        "a1 = Account()\n",
        "print(a1.details())\n",
        "print(\"------------------------\")\n",
        "a1.name = \"Oliver\"\n",
        "a1.balance = 10000.0\n",
        "print(a1.details())\n",
        "print(\"------------------------\")\n",
        "a2 = Account(\"Liam\")\n",
        "print(a2.details())\n",
        "print(\"------------------------\")\n",
        "a3 = Account(\"Noah\",400)\n",
        "print(a3.details())\n",
        "print(\"------------------------\")\n",
        "a1.withdraw(6930)\n",
        "print(\"------------------------\")\n",
        "a2.withdraw(600)\n",
        "print(\"------------------------\")\n",
        "a1.withdraw(6929)\n"
      ],
      "metadata": {
        "id": "O9UElb00G9mu",
        "colab": {
          "base_uri": "https://localhost:8080/"
        },
        "outputId": "1d3b17dc-d5ac-4a83-c570-885bdd195474"
      },
      "execution_count": null,
      "outputs": [
        {
          "output_type": "stream",
          "name": "stdout",
          "text": [
            "Default Account\n",
            "0.0\n",
            "------------------------\n",
            "Oliver\n",
            "10000.0\n",
            "------------------------\n",
            "Liam\n",
            "0.0\n",
            "------------------------\n",
            "Noah\n",
            "400.0\n",
            "------------------------\n",
            "Sorry, Withdraw unsuccessful! The account balance after deducting withdraw amount is equal to or less than minimum.\n",
            "------------------------\n",
            "Sorry, Withdraw unsuccessful! The account balance after deducting withdraw amount is equal to or less than minimum.\n",
            "------------------------\n",
            "Withdraw successful! New balance is: 3071.0\n"
          ]
        }
      ]
    },
    {
      "cell_type": "code",
      "source": [
        "#14\n",
        "class StudentDatabase:\n",
        "    def __init__(self,name,id):\n",
        "        self.name=name\n",
        "        self.id=id\n",
        "        self.grades={}\n",
        "    def calculateGPA(self,courses,batch):\n",
        "      totalCG=0\n",
        "      title=[]\n",
        "      for i in courses:\n",
        "        course=i.split(': ')\n",
        "        totalCG+=float(course[1])\n",
        "        title+=[course[0]]\n",
        "      gpa = round(totalCG/len(courses),2)\n",
        "      d={}\n",
        "      d[tuple(title)]=gpa\n",
        "      self.grades[batch]=d\n",
        "    def printDetails(self):\n",
        "      print(f\"name:{self.name}\")\n",
        "      print(f'id;{self.id}')\n",
        "      for i,j in self.grades.items():\n",
        "        print(f'courses taken in {i}:')\n",
        "        for l,k in j.items():\n",
        "          for p in l:\n",
        "            print(p)\n",
        "          print(f'gpa:{k}')\n",
        "          \n",
        "s1 = StudentDatabase('Pietro', '10101222')\n",
        "s1.calculateGPA(['CSE230: 4.0', 'CSE220: 4.0', 'MAT110: 4.0'], 'Summer2020')\n",
        "s1.calculateGPA(['CSE250: 3.7', 'CSE330: 4.0'], 'Summer2021')\n",
        "print(f'Grades for {s1.name}\\n{s1.grades}')\n",
        "print('------------------------------------------------------')\n",
        "s1.printDetails()\n",
        "s2 = StudentDatabase('Wanda', '10103332')\n",
        "s2.calculateGPA(['CSE111: 3.7', 'CSE260: 3.7', 'ENG101: 4.0'], 'Summer2022')\n",
        "print('------------------------------------------------------')\n",
        "print(f'Grades for {s2.name}\\n{s2.grades}')\n",
        "print('------------------------------------------------------')\n",
        "s2.printDetails()\n"
      ],
      "metadata": {
        "id": "dTlm9DVsG9tX",
        "colab": {
          "base_uri": "https://localhost:8080/"
        },
        "outputId": "e5b9ae23-bd3b-4caa-e712-1c3803f876f6"
      },
      "execution_count": null,
      "outputs": [
        {
          "output_type": "stream",
          "name": "stdout",
          "text": [
            "Grades for Pietro\n",
            "{'Summer2020': {('CSE230', 'CSE220', 'MAT110'): 4.0}, 'Summer2021': {('CSE250', 'CSE330'): 3.85}}\n",
            "------------------------------------------------------\n",
            "name:Pietro\n",
            "id;10101222\n",
            "courses taken in Summer2020:\n",
            "CSE230\n",
            "CSE220\n",
            "MAT110\n",
            "gpa:4.0\n",
            "courses taken in Summer2021:\n",
            "CSE250\n",
            "CSE330\n",
            "gpa:3.85\n",
            "------------------------------------------------------\n",
            "Grades for Wanda\n",
            "{'Summer2022': {('CSE111', 'CSE260', 'ENG101'): 3.8}}\n",
            "------------------------------------------------------\n",
            "name:Wanda\n",
            "id;10103332\n",
            "courses taken in Summer2022:\n",
            "CSE111\n",
            "CSE260\n",
            "ENG101\n",
            "gpa:3.8\n"
          ]
        }
      ]
    },
    {
      "cell_type": "code",
      "source": [],
      "metadata": {
        "id": "KIrFL64nNE0-"
      },
      "execution_count": null,
      "outputs": []
    },
    {
      "cell_type": "code",
      "source": [],
      "metadata": {
        "id": "jIeAOCp7NFpC"
      },
      "execution_count": null,
      "outputs": []
    }
  ]
}