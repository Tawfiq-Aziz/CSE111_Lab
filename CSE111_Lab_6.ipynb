{
  "nbformat": 4,
  "nbformat_minor": 0,
  "metadata": {
    "colab": {
      "provenance": [],
      "authorship_tag": "ABX9TyMNf0Wfr25maLrRyydb5A0M",
      "include_colab_link": true
    },
    "kernelspec": {
      "name": "python3",
      "display_name": "Python 3"
    },
    "language_info": {
      "name": "python"
    }
  },
  "cells": [
    {
      "cell_type": "markdown",
      "metadata": {
        "id": "view-in-github",
        "colab_type": "text"
      },
      "source": [
        "<a href=\"https://colab.research.google.com/github/Tawfiq-Aziz/CSE111_Lab/blob/master/CSE111_Lab_6.ipynb\" target=\"_parent\"><img src=\"https://colab.research.google.com/assets/colab-badge.svg\" alt=\"Open In Colab\"/></a>"
      ]
    },
    {
      "cell_type": "code",
      "execution_count": 10,
      "metadata": {
        "colab": {
          "base_uri": "https://localhost:8080/"
        },
        "id": "EZlaqVns9Yat",
        "outputId": "52e1832e-8674-423e-cf81-2b135cb1b534"
      },
      "outputs": [
        {
          "output_type": "stream",
          "name": "stdout",
          "text": [
            "ID:1\n",
            "Name:Samin\n",
            "Department:CSE\n",
            "Age:21\n",
            "CGPA:3.91\n",
            "-----------------------\n",
            "ID:2\n",
            "Name:Fahim\n",
            "Department:ECE\n",
            "Age:21\n",
            "CGPA:3.85\n",
            "-----------------------\n",
            "ID:3\n",
            "Name:Tahura\n",
            "Department:EEE\n",
            "Age:22\n",
            "CGPA:3.01\n",
            "-----------------------\n",
            "ID:4\n",
            "Name:Sumaiya\n",
            "Department:BBA\n",
            "Age:23\n",
            "CGPA:3.96\n"
          ]
        }
      ],
      "source": [
        "#Task 1\n",
        "class Student:\n",
        "  id = 0\n",
        "  def __init__(self,name,dept,age,cgpa):\n",
        "    self.name = name\n",
        "    self.dept = dept \n",
        "    self.age = age\n",
        "    Student.id += 1\n",
        "    self.id = Student.id\n",
        "    self.cgpa = cgpa\n",
        "  def get_details(self):\n",
        "    print(f'ID:{self.id}\\nName:{self.name}\\nDepartment:{self.dept}\\nAge:{self.age}\\nCGPA:{self.cgpa}')\n",
        "  @classmethod\n",
        "  def from_String(cls,details):\n",
        "    name,dept,age,cgpa = details.split(\"-\")\n",
        "    obj = cls(name,dept,age,cgpa)\n",
        "    return obj\n",
        "s1 = Student(\"Samin\", \"CSE\", 21, 3.91)\n",
        "s1.get_details()\n",
        "print(\"-----------------------\")\n",
        "s2 = Student(\"Fahim\", \"ECE\", 21, 3.85)\n",
        "s2.get_details()\n",
        "print(\"-----------------------\")\n",
        "s3 = Student(\"Tahura\", \"EEE\", 22, 3.01)\n",
        "s3.get_details() \n",
        "print(\"-----------------------\")\n",
        "s4 = Student.from_String(\"Sumaiya-BBA-23-3.96\")\n",
        "s4.get_details() \n",
        "\n"
      ]
    },
    {
      "cell_type": "code",
      "source": [
        "#Task 2 \\\n",
        "class Assassin:\n",
        "  assassins = 0\n",
        "  def __init__(self,name,success_rate):\n",
        "    self.name = name \n",
        "    self.success_rate = success_rate\n",
        "    Assassin.assassins+=1 \n",
        "    self.assassins = Assassin.assassins\n",
        "  def printDetails(self):\n",
        "    print(f'Name:{self.name}')\n",
        "    print(f'success rate:{self.success_rate}%')\n",
        "    print(f'Total number of Assassin:{self.assassins}')\n",
        "  @classmethod\n",
        "  def failureRate(cls,name,failure_rate):\n",
        "    cls.name = name \n",
        "    cls.failure_rate =100-failure_rate\n",
        "    obj = cls(cls.name,cls.failure_rate)\n",
        "    return obj\n",
        "  @classmethod\n",
        "  def failurePercentage(cls,name,fail_percentage):\n",
        "    cls.name = name \n",
        "    cls.fail_percentage =100-int(str(fail_percentage.strip(\"%\")))\n",
        "    obj = cls(cls.name,cls.fail_percentage)\n",
        "    return obj\n",
        "john_wick = Assassin('John Wick', 100)\n",
        "john_wick.printDetails()\n",
        "print('================================')\n",
        "nagisa = Assassin.failureRate(\"Nagisa\", 20)\n",
        "nagisa.printDetails()\n",
        "print('================================')\n",
        "akabane = Assassin.failurePercentage(\"Akabane\", \"10%\")\n",
        "akabane.printDetails()\n",
        " \n"
      ],
      "metadata": {
        "colab": {
          "base_uri": "https://localhost:8080/"
        },
        "id": "-xL-kHwcJEWD",
        "outputId": "0c263131-1254-4746-bb0c-c4ab93a5000a"
      },
      "execution_count": 1,
      "outputs": [
        {
          "output_type": "stream",
          "name": "stdout",
          "text": [
            "Name:John Wick\n",
            "success rate:100%\n",
            "Total number of Assassin:1\n",
            "================================\n",
            "Name:Nagisa\n",
            "success rate:80%\n",
            "Total number of Assassin:2\n",
            "================================\n",
            "Name:Akabane\n",
            "success rate:90%\n",
            "Total number of Assassin:3\n"
          ]
        }
      ]
    },
    {
      "cell_type": "code",
      "source": [
        "#Task 3\n",
        "class Passenger:\n",
        "  count = 0\n",
        "  def __init__(self,name):\n",
        "    self.name = name\n",
        "    Passenger.count +=1 \n",
        "    \n",
        "  def set_bag_weight(self,weight):\n",
        "    self.weight = weight \n",
        "    self.fare = 450\n",
        "    if self.weight<=20:\n",
        "      self.fare = 450\n",
        "    elif self.weight>=21 and self.weight<=50:\n",
        "      self.fare = 450+50\n",
        "    else:\n",
        "      self.fare = 450+100\n",
        "\n",
        "  def printDetail(self):\n",
        "      print(f'Name:{self.name}\\nBus Fare:{self.fare} taka')   \n",
        "\n",
        "print(\"Total Passenger:\", Passenger.count)\n",
        "p1 = Passenger(\"Jack\")\n",
        "p1.set_bag_weight(90)\n",
        "p2 = Passenger(\"Carol\")\n",
        "p2.set_bag_weight(10)\n",
        "p3 = Passenger(\"Mike\")\n",
        "p3.set_bag_weight(25)\n",
        "print(\"=========================\")\n",
        "p1.printDetail()\n",
        "print(\"=========================\")\n",
        "p2.printDetail()\n",
        "print(\"=========================\")\n",
        "p3.printDetail()\n",
        "print(\"=========================\")\n",
        "print(\"Total Passenger:\", Passenger.count)\n"
      ],
      "metadata": {
        "colab": {
          "base_uri": "https://localhost:8080/"
        },
        "id": "Mfaw1P1FJEZC",
        "outputId": "78a1c1ef-dd2d-476c-c475-1314bd269aa8"
      },
      "execution_count": 9,
      "outputs": [
        {
          "output_type": "stream",
          "name": "stdout",
          "text": [
            "Total Passenger: 0\n",
            "=========================\n",
            "Name:Jack\n",
            "Bus Fare:550 taka\n",
            "=========================\n",
            "Name:Carol\n",
            "Bus Fare:450 taka\n",
            "=========================\n",
            "Name:Mike\n",
            "Bus Fare:500 taka\n",
            "=========================\n",
            "Total Passenger: 3\n"
          ]
        }
      ]
    },
    {
      "cell_type": "code",
      "source": [
        "#Task 4\n",
        "class Travel:\n",
        "  count = 0\n",
        "  def __init__(self,source,destination):\n",
        "    self.source = source \n",
        "    self.destination = destination\n",
        "    self.time = 1\n",
        "    Travel.count+=1\n",
        "  def display_travel_info(self):\n",
        "    display_info=(f'Source:{self.source}\\nDestination:{self.destination}\\nFlight time:{self.time}:00')\n",
        "    return display_info\n",
        "  def set_time(self,time):\n",
        "    self.time = time\n",
        "  def set_destination(self,destination):\n",
        "    self.destination = destination\n",
        "  def set_source(self,source):\n",
        "    self.source = source \n",
        "#==========================================================================================================    \n",
        "print(\"No. of Traveller =\", Travel.count)\n",
        "print(\"=======================\")\n",
        "t1 = Travel(\"Dhaka\",\"India\")\n",
        "print(t1.display_travel_info())\n",
        "print(\"=======================\")\n",
        "t2 = Travel(\"Kuala Lampur\",\"Dhaka\")\n",
        "t2.set_time(23)\n",
        "print(t2.display_travel_info())\n",
        "print(\"=======================\")\n",
        "t3 = Travel(\"Dhaka\",\"New_Zealand\")\n",
        "t3.set_time(15)\n",
        "t3.set_destination(\"Germany\")\n",
        "print(t3.display_travel_info())\n",
        "print(\"=======================\")\n",
        "t4 = Travel(\"Dhaka\",\"India\")\n",
        "t4.set_time(9)\n",
        "t4.set_source(\"Malaysia\")\n",
        "t4.set_destination(\"Canada\")\n",
        "print(t4.display_travel_info())\n",
        "print(\"=======================\")\n",
        "print(\"No. of Traveller =\", Travel.count)"
      ],
      "metadata": {
        "colab": {
          "base_uri": "https://localhost:8080/"
        },
        "id": "l37Vx4rzJEhC",
        "outputId": "83e1903b-08a6-40dc-c636-27d47ce8512f"
      },
      "execution_count": 19,
      "outputs": [
        {
          "output_type": "stream",
          "name": "stdout",
          "text": [
            "No. of Traveller = 0\n",
            "=======================\n",
            "Source:Dhaka\n",
            "Destination:India\n",
            "Flight time:1:00\n",
            "=======================\n",
            "Source:Kuala Lampur\n",
            "Destination:Dhaka\n",
            "Flight time:23:00\n",
            "=======================\n",
            "Source:Dhaka\n",
            "Destination:Germany\n",
            "Flight time:15:00\n",
            "=======================\n",
            "Source:Malaysia\n",
            "Destination:Canada\n",
            "Flight time:9:00\n",
            "=======================\n",
            "No. of Traveller = 4\n"
          ]
        }
      ]
    },
    {
      "cell_type": "code",
      "source": [
        "#Task 5\n",
        "class Employee:\n",
        "  def __init__(self,name,workingPeriod):\n",
        "    self.name = name \n",
        "    self.workingPeriod = workingPeriod\n",
        "  @classmethod\n",
        "  def employeeByJoiningYear(cls,name,year):\n",
        "    cls.name = name \n",
        "    cls.year = 2022-year\n",
        "    obj = cls(cls.name,cls.year)\n",
        "    return obj\n",
        "  @staticmethod\n",
        "  def experienceCheck(workperiod,gender):\n",
        "    if gender=='male':\n",
        "      x='He'\n",
        "    else:\n",
        "      x='She'\n",
        "    if workperiod>=3:\n",
        "      return(f'{x} is experienced')\n",
        "    else:\n",
        "      return(f'{x} is not experienced')\n",
        "\n",
        "employee1 = Employee('Dororo', 3)\n",
        "employee2 = Employee.employeeByJoiningYear('Harry', 2016)\n",
        "print(employee1.workingPeriod)\n",
        "print(employee2.workingPeriod)\n",
        "print(employee1.name)\n",
        "print(employee2.name)\n",
        "print(Employee.experienceCheck(2, \"male\"))\n",
        "print(Employee.experienceCheck(3, \"female\"))"
      ],
      "metadata": {
        "colab": {
          "base_uri": "https://localhost:8080/"
        },
        "id": "RaugBe4Drmvu",
        "outputId": "db6f5f1e-9995-4a75-94ec-27c3e2afc540"
      },
      "execution_count": 26,
      "outputs": [
        {
          "output_type": "stream",
          "name": "stdout",
          "text": [
            "3\n",
            "6\n",
            "Dororo\n",
            "Harry\n",
            "He is not experienced\n",
            "She is experienced\n"
          ]
        }
      ]
    },
    {
      "cell_type": "code",
      "source": [
        "#Task 6\n",
        "class Laptop:\n",
        "  laptopCount = 0\n",
        "  def __init__(self,name,count):\n",
        "    self.name = name\n",
        "    self.count = count\n",
        "    Laptop.laptopCount+= self.count\n",
        "\n",
        "  @classmethod\n",
        "  def resetCount(cls):\n",
        "    Laptop.laptopCount=0\n",
        "    return Laptop.laptopCount\n",
        "\n",
        "  @staticmethod\n",
        "  def advantage():\n",
        "    print('Laptops are portable')\n",
        "#==========================================================================================================\n",
        "lenovo = Laptop(\"Lenovo\", 5);\n",
        "dell = Laptop(\"Dell\", 7);\n",
        "print(lenovo.name, lenovo.count)\n",
        "print(dell.name, dell.count)\n",
        "print(\"Total number of Laptops\", Laptop.laptopCount)\n",
        "Laptop.advantage()\n",
        "Laptop.resetCount()\n",
        "print(\"Total number of Laptops\", Laptop.laptopCount) "
      ],
      "metadata": {
        "colab": {
          "base_uri": "https://localhost:8080/"
        },
        "id": "4maE_eXzrmyc",
        "outputId": "1b87ef0d-0f82-4838-fe0a-c75a6c1bc589"
      },
      "execution_count": 7,
      "outputs": [
        {
          "output_type": "stream",
          "name": "stdout",
          "text": [
            "Lenovo 5\n",
            "Dell 7\n",
            "Total number of Laptops 12\n",
            "Laptops are portable\n",
            "Total number of Laptops 0\n"
          ]
        }
      ]
    },
    {
      "cell_type": "code",
      "source": [
        "#Task 7\n"
      ],
      "metadata": {
        "id": "qsDBlUPSrm1s"
      },
      "execution_count": null,
      "outputs": []
    },
    {
      "cell_type": "code",
      "source": [
        "#Task 8\n",
        "from math import pi \n",
        "\n",
        "class Cylinder:\n",
        "  radius = 5\n",
        "  height = 18\n",
        "  def __init__(self,radius,height):\n",
        "    \n",
        "    print(f'Default radius={Cylinder.radius} and height={Cylinder.height}')\n",
        "    self.radius = radius \n",
        "    self.height = height\n",
        "    print(f'Updated: radius={self.radius} and height={self.height}')\n",
        "    Cylinder.radius = self.radius \n",
        "    Cylinder.height = self.height\n",
        "\n",
        "  @classmethod \n",
        "  def swap(cls,radius,height):\n",
        "    obj = cls(height,radius)\n",
        "    return obj\n",
        "  @classmethod\n",
        "  def changeFormat(cls,info):\n",
        "    radius,height = info.split(\"-\")\n",
        "    radius = float(radius)\n",
        "    height = float(height)\n",
        "    obj = cls(radius,height)\n",
        "    return obj\n",
        "  @staticmethod\n",
        "  def area(radius,height):\n",
        "    area = (2* pi*radius*radius)+ (2*pi*radius*height)\n",
        "    print(f'Area: {area}')\n",
        "  @staticmethod\n",
        "  def volume(radius,height):\n",
        "    volume = pi*(radius**2)*height\n",
        "    print(f'Volume: {volume}')\n",
        "###############################################################################################################\n",
        "c1 = Cylinder(0,0)\n",
        "Cylinder.area(c1.radius,c1.height)\n",
        "Cylinder.volume(c1.radius,c1.height)\n",
        "print(\"===============================\")\n",
        "c2 = Cylinder.swap(8,3)\n",
        "c2.area(c2.radius,c2.height)\n",
        "c2.volume(c2.radius,c2.height)\n",
        "print(\"===============================\")\n",
        "c3 = Cylinder.changeFormat(\"7-13\")\n",
        "c3.area(c3.radius,c3.height)\n",
        "c3.volume(c3.radius,c3.height)\n",
        "print(\"===============================\")\n",
        "Cylinder(0.3,5.56).area(Cylinder.radius,Cylinder.height)\n",
        "print(\"===============================\")\n",
        "Cylinder(3,5).volume(Cylinder.radius,Cylinder.height)\n"
      ],
      "metadata": {
        "colab": {
          "base_uri": "https://localhost:8080/"
        },
        "id": "qa0XfItErm5s",
        "outputId": "a61fef45-ef4b-48dd-cec8-495b71162d86"
      },
      "execution_count": 28,
      "outputs": [
        {
          "output_type": "stream",
          "name": "stdout",
          "text": [
            "Default radius=5 and height=18\n",
            "Updated: radius=0 and height=0\n",
            "Area: 0.0\n",
            "Volume: 0.0\n",
            "===============================\n",
            "Default radius=0 and height=0\n",
            "Updated: radius=3 and height=8\n",
            "Area: 207.34511513692635\n",
            "Volume: 226.1946710584651\n",
            "===============================\n",
            "Default radius=3 and height=8\n",
            "Updated: radius=7.0 and height=13.0\n",
            "Area: 879.645943005142\n",
            "Volume: 2001.1945203366981\n",
            "===============================\n",
            "Default radius=7.0 and height=13.0\n",
            "Updated: radius=0.3 and height=5.56\n",
            "Area: 11.045839770021713\n",
            "===============================\n",
            "Default radius=0.3 and height=5.56\n",
            "Updated: radius=3 and height=5\n",
            "Volume: 141.3716694115407\n"
          ]
        }
      ]
    },
    {
      "cell_type": "code",
      "source": [],
      "metadata": {
        "id": "zRuqPN-zJEjZ"
      },
      "execution_count": null,
      "outputs": []
    }
  ]
}