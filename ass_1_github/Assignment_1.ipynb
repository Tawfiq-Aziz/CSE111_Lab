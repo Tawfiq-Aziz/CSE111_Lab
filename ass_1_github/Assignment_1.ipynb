{
 "cells": [
  {
   "cell_type": "code",
   "execution_count": 1,
   "metadata": {},
   "outputs": [
    {
     "name": "stdout",
     "output_type": "stream",
     "text": [
      "\n"
     ]
    }
   ],
   "source": [
    "#Task1\n",
    "string = input()\n",
    "upper = 0\n",
    "lower = 0\n",
    "\n",
    "for index in range (len(string)):\n",
    "    if string[index].isupper():\n",
    "        upper += 1\n",
    "    else:\n",
    "        lower += 1\n",
    "\n",
    "if upper > lower:\n",
    "    print (string.upper())\n",
    "else:\n",
    "    print (string.lower())   "
   ]
  },
  {
   "cell_type": "code",
   "execution_count": 3,
   "metadata": {},
   "outputs": [],
   "source": [
    "#Task2\n",
    "string = input()\n",
    "number = 0\n",
    "word = 0\n",
    "\n",
    "for index in range (len(string)):\n",
    "    if 67>ord(string[index])>48: \n",
    "        number += 1\n",
    "        \n",
    "    if 90>ord(string[index])>65 or 122>ord(string[index])>97:\n",
    "        word += 1\n",
    "\n",
    "if number >= 1 and word == 0:\n",
    "    print ('NUMBER')\n",
    "if word >= 1 and number == 0:\n",
    "    print ('WORD')\n",
    "if number >=1 and word >= 1:\n",
    "    print ('MIXED')"
   ]
  },
  {
   "cell_type": "code",
   "execution_count": 4,
   "metadata": {},
   "outputs": [
    {
     "name": "stdout",
     "output_type": "stream",
     "text": [
      "\n"
     ]
    }
   ],
   "source": [
    "#Task3\n",
    "string = input()\n",
    "first = 0\n",
    "last = 0\n",
    "\n",
    "for index in range (len(string)):\n",
    "    if 90>ord(string[index])>65:\n",
    "        first = index\n",
    "        break \n",
    "    \n",
    "for index in range (len(string)):\n",
    "    if 90>ord(string[index])>65:   \n",
    "        last = index\n",
    "        \n",
    "#print (first)\n",
    "#print (last)\n",
    "difference = last - first\n",
    "if difference == 1:\n",
    "    print ('BLANK')\n",
    "sliced = string[first+1:last]\n",
    "print (sliced)\n",
    "    "
   ]
  },
  {
   "cell_type": "code",
   "execution_count": 5,
   "metadata": {},
   "outputs": [
    {
     "name": "stdout",
     "output_type": "stream",
     "text": [
      "\n"
     ]
    }
   ],
   "source": [
    "#Task4\n",
    "string = input()\n",
    "sub_string1 = 'too'\n",
    "sub_string2 = 'good'\n",
    "\n",
    "index1 = string.find(sub_string1)\n",
    "#print (index1)\n",
    "index2 = string.find(sub_string2)\n",
    "#print (index2)\n",
    "\n",
    "if index1 < index2:\n",
    "    slicing = string[:index1] + 'excellent!'\n",
    "    print (slicing)\n",
    "else:\n",
    "    print (string)"
   ]
  },
  {
   "cell_type": "code",
   "execution_count": 6,
   "metadata": {},
   "outputs": [
    {
     "name": "stdout",
     "output_type": "stream",
     "text": [
      "Nothing in common.\n"
     ]
    }
   ],
   "source": [
    "#Task5\n",
    "\n",
    "str1 = input()\n",
    "str2 = input()\n",
    "concatenate = ''\n",
    "\n",
    "for i in str1:\n",
    "    if i in str2:\n",
    "        concatenate += i\n",
    "for i in str2:\n",
    "    if i in str1:\n",
    "        concatenate += i\n",
    "\n",
    "if len(concatenate) > 0:\n",
    "    print (concatenate)\n",
    "else:\n",
    "    print ('Nothing in common.')"
   ]
  },
  {
   "cell_type": "code",
   "execution_count": 7,
   "metadata": {},
   "outputs": [
    {
     "name": "stdout",
     "output_type": "stream",
     "text": [
      "Special character missing,Digit missing,Uppercase character missing,Lowercase character missing,"
     ]
    }
   ],
   "source": [
    "#Task6\n",
    "string = input()\n",
    "special_char = False\n",
    "digit = False\n",
    "upper_case = False\n",
    "lower_case = False\n",
    "\n",
    "for index in string:\n",
    "    if 47>=ord(index)>=32 or 64>=ord(index)>=58 or 96>=ord(index)>=91 or 126>=ord(index)>=123:\n",
    "        special_char = True\n",
    "    if 57>=ord(index)>=48:\n",
    "        digit = True\n",
    "    if 90>=ord(index)>=65:\n",
    "        upper_case = True\n",
    "    if  122>=ord(index)>=97:\n",
    "        lower_case = True\n",
    "        \n",
    "if special_char == False:\n",
    "    print ('Special character missing',end = ',')\n",
    "if digit == False:\n",
    "    print ('Digit missing',end = ',')\n",
    "if upper_case == False:\n",
    "    print ('Uppercase character missing',end = ',')\n",
    "if lower_case == False:\n",
    "        print ('Lowercase character missing',end = ',')\n",
    "\n",
    "if (special_char == True) and (digit == True) and (upper_case == True) and (lower_case == True):\n",
    "    print ('OK')"
   ]
  },
  {
   "attachments": {},
   "cell_type": "markdown",
   "metadata": {},
   "source": [
    "List"
   ]
  },
  {
   "cell_type": "code",
   "execution_count": 9,
   "metadata": {},
   "outputs": [
    {
     "name": "stdout",
     "output_type": "stream",
     "text": [
      "['10', '20', '20', '30', '10', '50', '90']\n",
      "['10', '20', '30', '50', '90']\n",
      "[2, 2, 1, 1, 1]\n",
      "10 - 2 times\n",
      "20 - 2 times\n",
      "30 - 1 times\n",
      "50 - 1 times\n",
      "90 - 1 times\n"
     ]
    }
   ],
   "source": [
    "#TASK1\n",
    "lst = []\n",
    "lst_element = []\n",
    "count = 0\n",
    "lst_count = []\n",
    "\n",
    "while True:\n",
    "    num = input()\n",
    "    if num == 'STOP':\n",
    "        break\n",
    "    lst.append(num)\n",
    "print (lst)\n",
    "\n",
    "for index in lst:\n",
    "    if index not in lst_element:\n",
    "        lst_element.append(index)\n",
    "        lst_count.append(1)\n",
    "    else:\n",
    "        lst_count[lst_element.index(index)] += 1\n",
    "        \n",
    "print (lst_element)\n",
    "\n",
    "print (lst_count)    \n",
    "        \n",
    "for index in range (len(lst_element)):\n",
    "    print (lst_element[index],'-',lst_count[index],'times')"
   ]
  },
  {
   "cell_type": "code",
   "execution_count": 10,
   "metadata": {},
   "outputs": [
    {
     "name": "stdout",
     "output_type": "stream",
     "text": [
      "33\n",
      "[10, 11, 12]\n"
     ]
    }
   ],
   "source": [
    "#Task2\n",
    "lists = [[4],[1,2,3],[4,5,6],[10,11,12],[7,8,9]]\n",
    "add = []\n",
    "\n",
    "for x in lists :\n",
    "    #print (x)\n",
    "    #print (sum(x))\n",
    "        \n",
    "    add.append((sum(x)))\n",
    "#print (add)\n",
    "\n",
    "\n",
    "\n",
    "maximum = add[0]\n",
    "for i in range(len(add)):\n",
    "    if add[i] > maximum:\n",
    "        maximum = add[i]\n",
    "        index = i\n",
    "#print (index)\n",
    "print (maximum)\n",
    "    \n",
    "    \n",
    "\n",
    "\n",
    "print (lists[index])    "
   ]
  },
  {
   "cell_type": "code",
   "execution_count": 11,
   "metadata": {},
   "outputs": [
    {
     "name": "stdout",
     "output_type": "stream",
     "text": [
      "[6, 8, 10, 9, 12, 15, 18, 24, 30]\n"
     ]
    }
   ],
   "source": [
    "#task3\n",
    "list1 = [2,3,6]\n",
    "list2 = [3,4,5]\n",
    "list3 = []\n",
    "\n",
    "for i in list1:\n",
    "    for j in list2:\n",
    "        list3.append(j*i)\n",
    "print (list3)"
   ]
  },
  {
   "cell_type": "code",
   "execution_count": 15,
   "metadata": {},
   "outputs": [
    {
     "name": "stdout",
     "output_type": "stream",
     "text": [
      "UB Jumper\n",
      "UB Jumper\n",
      "Not UB Jumper\n"
     ]
    }
   ],
   "source": [
    "#Task4\n",
    "while True:\n",
    "    num = input()\n",
    "    if num == 'STOP':\n",
    "        break\n",
    "    else:\n",
    "        number = num.split()\n",
    "        #print (number)\n",
    "        \n",
    "        num_list = []\n",
    "        for index in number:\n",
    "             num_list.append(int(index))\n",
    "        #print (num_list)\n",
    "        \n",
    "        num_list2 = []\n",
    "        for index in range (len(num_list)-1):\n",
    "            sub = abs((num_list[index]) - (num_list[index+1]))\n",
    "            num_list2.append(sub)\n",
    "        #print (num_list2)\n",
    "        \n",
    "        if (len(num_list)-1) == max(num_list2):\n",
    "            #print (len(num_list)-1)\n",
    "            #print (max(num_list2))\n",
    "            print ('UB Jumper')\n",
    "        else:\n",
    "            print ('Not UB Jumper')"
   ]
  },
  {
   "cell_type": "code",
   "execution_count": 16,
   "metadata": {},
   "outputs": [
    {
     "name": "stdout",
     "output_type": "stream",
     "text": [
      "acruB1324"
     ]
    }
   ],
   "source": [
    "#task5\n",
    "string = input()\n",
    "upper = []\n",
    "lower = []\n",
    "odd = []\n",
    "even = []\n",
    "for index in string:\n",
    "    if 'Z'>=index>='A':\n",
    "        upper.append(index)\n",
    "    if 'z'>=index>='a':\n",
    "        lower.append(index)\n",
    "    if index in '13579':\n",
    "        odd.append(index)\n",
    "    if index in '24680':\n",
    "        even.append(index)\n",
    "\n",
    "#print (upper)\n",
    "#print (lower)\n",
    "#print (odd)\n",
    "#print (even)\n",
    "\n",
    "upper.sort()\n",
    "#print (upper)\n",
    "lower.sort()\n",
    "#print (lower)\n",
    "odd.sort()\n",
    "#print (odd)\n",
    "even.sort()\n",
    "#print (even)\n",
    "\n",
    "result = lower + upper + odd + even\n",
    "#print (result)\n",
    "\n",
    "for index in result:\n",
    "    print (index,end = '')"
   ]
  },
  {
   "cell_type": "code",
   "execution_count": 17,
   "metadata": {},
   "outputs": [
    {
     "name": "stdout",
     "output_type": "stream",
     "text": [
      "1 Teams\n"
     ]
    }
   ],
   "source": [
    "#task6\n",
    "\n",
    "l1 = []\n",
    "no_of_participants = int(input('NO. of participants : '))\n",
    "for index in range (no_of_participants):\n",
    "    participant = int(input('no of times Participants already participated : '))\n",
    "    l1.append(participant)\n",
    "#print (l1)\n",
    "\n",
    "wanna_part = int(input('No of times the uni wants teams to participate : '))\n",
    "part_left = []\n",
    "for index in l1:\n",
    "    part_left.append(index+wanna_part)\n",
    "#print (part_left)\n",
    "\n",
    "team = []\n",
    "for index in part_left:\n",
    "    if index <= 5:\n",
    "        team.append(index)\n",
    "#print (team) \n",
    "\n",
    "result = len(team)//3\n",
    "print (result,'Teams')"
   ]
  },
  {
   "attachments": {},
   "cell_type": "markdown",
   "metadata": {},
   "source": [
    "Dictionary & Tuple"
   ]
  },
  {
   "cell_type": "code",
   "execution_count": 18,
   "metadata": {},
   "outputs": [
    {
     "name": "stdout",
     "output_type": "stream",
     "text": [
      "{'a': 400, 'b': 300, 'c': 200, 'd': 700, 'e': 200}\n",
      "(200, 300, 400, 700)\n"
     ]
    }
   ],
   "source": [
    "#task1\n",
    "#input--------------------------\n",
    "#a: 100, b: 100, c: 200, d: 300\n",
    "#a: 300, b: 200, d: 400, e: 200\n",
    "\n",
    "d1 = {}\n",
    "d2 = {}\n",
    "d3 = {}\n",
    "\n",
    "string1 = input().split(', ')\n",
    "#print (string1)\n",
    "for index in string1:\n",
    "    #print (index)\n",
    "    key_value = (index.split(': '))\n",
    "    #print (key_value)\n",
    "    d1[key_value[0]] = int(key_value[1])\n",
    "#print (d1)\n",
    "\n",
    "string2 = input().split(', ')\n",
    "#print (string2)\n",
    "for index in string2:\n",
    "    #print (index)\n",
    "    key_value = (index.split(': '))\n",
    "    #print (key_value)\n",
    "    d2[key_value[0]] = int(key_value[1])\n",
    "#print (d2)\n",
    "    \n",
    "for key in d1:\n",
    "    if key in d2:\n",
    "        d3[key] = d1[key] + d2[key]\n",
    "    else:\n",
    "        d3[key] = d1[key]\n",
    "\n",
    "for key in d2:\n",
    "    if key not in d1:\n",
    "        d3[key] = d2[key]\n",
    "\n",
    "print (d3)\n",
    "\n",
    "tup = []\n",
    "for value in d3.values():\n",
    "    #print (values)\n",
    "    if value in tup:\n",
    "        pass\n",
    "    else:\n",
    "        tup.append(value)\n",
    "#print (tup)\n",
    "tup.sort()\n",
    "#print (tup)\n",
    "\n",
    "convert = tuple(tup)\n",
    "print (convert)\n"
   ]
  },
  {
   "cell_type": "code",
   "execution_count": 19,
   "metadata": {},
   "outputs": [
    {
     "name": "stdout",
     "output_type": "stream",
     "text": [
      "{10: 2, 20: 2, 30: 1, 50: 1, 90: 1}\n",
      "10 - 2 times\n",
      "20 - 2 times\n",
      "30 - 1 times\n",
      "50 - 1 times\n",
      "90 - 1 times\n"
     ]
    }
   ],
   "source": [
    "#task2\n",
    "list_fre = []\n",
    "while True :\n",
    "    num = input()\n",
    "    if num == 'STOP' :\n",
    "        break\n",
    "    else :\n",
    "        list_fre.append(int(num))\n",
    "\n",
    "frequency = {}\n",
    "for index in list_fre :\n",
    "    if index in frequency.keys() :\n",
    "        frequency[index] = frequency[index] + 1\n",
    "    else :\n",
    "        frequency[index] = 1\n",
    "\n",
    "print (frequency)\n",
    "for index in frequency :\n",
    "    print (index,'-',frequency[index],'times')"
   ]
  },
  {
   "cell_type": "code",
   "execution_count": 20,
   "metadata": {},
   "outputs": [
    {
     "name": "stdout",
     "output_type": "stream",
     "text": [
      "{'value1': ['key1 ', 'key3 '], 'value2': ['key2 ']}\n"
     ]
    }
   ],
   "source": [
    "#Task3\n",
    "#key1 : value1, key2 : value2, key3 : value1\n",
    "\n",
    "d1 = {}\n",
    "d2 = {}\n",
    "string1 = input().split(', ')\n",
    "\n",
    "for index in string1:\n",
    "    #print (index)\n",
    "    key_value = (index.split(': '))\n",
    "    #print (key_value)\n",
    "    d1[key_value[0]] = key_value[1]\n",
    "#print (d1)\n",
    "\n",
    "l_key = []\n",
    "l_value = []\n",
    "l_u = []\n",
    "\n",
    "for key, value in d1.items():\n",
    "    l_key.append(value)\n",
    "\n",
    "#print (l_key)\n",
    "\n",
    "l_key_unique = []\n",
    "for key in l_key:\n",
    "    if not key in l_key_unique:\n",
    "        l_key_unique.append(key)\n",
    "\n",
    "final_d = {}\n",
    "\n",
    "#print(l_key_unique)\n",
    "\n",
    "for key in l_key_unique:\n",
    "    final_d[key] = []\n",
    "\n",
    "for key, value in d1.items():\n",
    "    final_d[value].append(key)\n",
    "print(final_d)\n",
    "\n",
    "#data = dict(zip(l_key,l_u))\n",
    "#print (data)"
   ]
  },
  {
   "cell_type": "code",
   "execution_count": 21,
   "metadata": {},
   "outputs": [
    {
     "name": "stdout",
     "output_type": "stream",
     "text": [
      "Those strings are \"not\" anagrams.\n"
     ]
    }
   ],
   "source": [
    "#Task4\n",
    "string1 = input()\n",
    "string2 = input()\n",
    "    \n",
    "if len(string1) != len(string2):\n",
    "    print ('Those strings are \"not\" anagrams.')\n",
    "else:\n",
    "    d1 = {}\n",
    "    d2 = {}\n",
    "    for index in string1:\n",
    "        if index in d1:\n",
    "            d1[index] = d1[index] +1\n",
    "        else:\n",
    "            d1[index] = 1\n",
    "\n",
    "    for index in string2:\n",
    "        if index in d2:\n",
    "            d2[index] = d2[index] +1\n",
    "        else:\n",
    "            d2[index] = 1        \n",
    "    #print (d1)\n",
    "    #print (d2)\n",
    "\n",
    "    is_equal = d1 == d2\n",
    "    #print (is_equal)\n",
    "    if is_equal == True:\n",
    "        print ('Those strings are anagrams.')\n",
    "    else:\n",
    "        print ('Those strings are \"not\" anagrams.')\n",
    "#-------------------------------------------------------------------------------------------------------------    \n",
    "#     for key in set(d1) & set(d2):\n",
    "#         if d1[key] == d2[key]:\n",
    "#             print ('ana')\n",
    "#         else:\n",
    "#             print ('no')\n",
    "#     l1 = {}\n",
    "#     l2 = {}\n",
    "#     for i in sorted(d1.keys()):\n",
    "#         l1[i] = l1[i]\n",
    "#     for i in sorted(d2.keys()):\n",
    "#         print (i,)\n",
    "# for key,value in d1.items():\n",
    "#     if key in d2.items():\n",
    "#         print ('ana')\n",
    "#     else:\n",
    "#         print ('no')\n",
    "#     for a in d1:\n",
    "#         if a in d2:\n",
    "#             if d1[a] == d2[a]:\n",
    "#                 print ('anagram')\n",
    "#                 break\n",
    "#             else:\n",
    "#                 print ('not')"
   ]
  },
  {
   "cell_type": "code",
   "execution_count": 22,
   "metadata": {},
   "outputs": [
    {
     "name": "stdout",
     "output_type": "stream",
     "text": [
      "44335555556661110966677755531111"
     ]
    }
   ],
   "source": [
    "#task5  \n",
    "#input - Hello, World!\n",
    "#new_memory = {'.':1,',':1,'?':1,'!':1,'A':2,'B':2,'C':2,'D':3,'E':3,'F':3,'G':4,'H':4,'I':4,'J':5,'K':5,'L':5,'M':6,'N':6,'O':6,'P':7,'Q':7,'R':7,'S':7,'T':8,'U':8,'V':8,'W':9,'X':9,'Y':9,'Z':9,' ':10}\n",
    "\n",
    "\n",
    "\n",
    "memory = {1:'.,?!:',2:'ABC',3:'DEF',4:'GHI',5:'JKL',6:'MNO',7:'PQRS',8:'TUV',9:'WXYZ',10:' '}\n",
    "input1 = input().upper()\n",
    "\n",
    "for char in input1:\n",
    "    for key,value in memory.items():\n",
    "        if char in value:\n",
    "            i = value.index(char) + 1\n",
    "            print (str(key)*i,end = '')"
   ]
  },
  {
   "cell_type": "code",
   "execution_count": null,
   "metadata": {},
   "outputs": [],
   "source": []
  },
  {
   "cell_type": "code",
   "execution_count": null,
   "metadata": {},
   "outputs": [],
   "source": []
  },
  {
   "cell_type": "code",
   "execution_count": null,
   "metadata": {},
   "outputs": [],
   "source": []
  },
  {
   "cell_type": "code",
   "execution_count": null,
   "metadata": {},
   "outputs": [],
   "source": []
  }
 ],
 "metadata": {
  "kernelspec": {
   "display_name": "base",
   "language": "python",
   "name": "python3"
  },
  "language_info": {
   "codemirror_mode": {
    "name": "ipython",
    "version": 3
   },
   "file_extension": ".py",
   "mimetype": "text/x-python",
   "name": "python",
   "nbconvert_exporter": "python",
   "pygments_lexer": "ipython3",
   "version": "3.9.13"
  },
  "orig_nbformat": 4,
  "vscode": {
   "interpreter": {
    "hash": "8b20040c448415ba5e3d392aa451b5153bd4da222912fc9fd9d4232c1f38c2b3"
   }
  }
 },
 "nbformat": 4,
 "nbformat_minor": 2
}
